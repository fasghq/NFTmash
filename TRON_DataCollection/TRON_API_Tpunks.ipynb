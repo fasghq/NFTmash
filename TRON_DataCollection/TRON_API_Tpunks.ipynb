{
 "cells": [
  {
   "cell_type": "code",
   "execution_count": 1,
   "metadata": {},
   "outputs": [],
   "source": [
    "# Connecting to Node (network)\n",
    "import tronpy\n",
    "from tronpy import Tron, keys\n",
    "import urllib.request\n",
    "import json"
   ]
  },
  {
   "cell_type": "code",
   "execution_count": 2,
   "metadata": {},
   "outputs": [],
   "source": [
    "# Importing Tron key\n",
    "with open('./Keys/secrets.json') as f:\n",
    "    tron_api_key = json.load(f)['api_keys']['tron_api']\n",
    "    \n",
    "with open('./Keys/secrets.json') as f:\n",
    "    infura_api_key = json.load(f)['api_keys']['infura_api']"
   ]
  },
  {
   "cell_type": "code",
   "execution_count": 3,
   "metadata": {},
   "outputs": [],
   "source": [
    "#HTTP provider\n",
    "from tronpy.providers import HTTPProvider\n",
    "client_main_http = Tron(HTTPProvider(api_key=tron_api_key))"
   ]
  },
  {
   "cell_type": "code",
   "execution_count": 4,
   "metadata": {},
   "outputs": [
    {
     "name": "stdout",
     "output_type": "stream",
     "text": [
      "get_latest_block_number:  45628568\n",
      "get_latest_block_id:  0000000002b83c98cd099f420a053429ce3bbd15a15b6bb10077037ddf466ca4\n"
     ]
    }
   ],
   "source": [
    "#HTTP API CLIENT: Calling query APIs Just to check\n",
    "print('get_latest_block_number: ',client_main_http.get_latest_block_number())\n",
    "print('get_latest_block_id: ',client_main_http.get_latest_block_id())"
   ]
  },
  {
   "cell_type": "markdown",
   "metadata": {},
   "source": [
    "### Tpunks\n",
    "\n",
    "<ul>\n",
    "  <li>Collection: Tpunks</li>\n",
    "  <li>Items: 9999</li>\n",
    "  <li>All time volume: 45M</li>\n",
    "  <li>Month volume: 7K</li>\n",
    "  <li>Unique owners: 977</li>\n",
    "  <li>Contract: TMCBfg4XDFTLCZapnwAVHypW2sm9hB3okZ</li>\n",
    "  <li>Number of Traits: 6</li>\n",
    "  <li><a href=\"https://apenft.io/collections/tpunks\" title=\"Collection link\">Collection link</a></li>\n",
    "  <li><a href=\"https://tronscan.io/#/token721/TMCBfg4XDFTLCZapnwAVHypW2sm9hB3okZ\" title=\"Scanner Link\">Scanner Link</a></li>\n",
    "</ul>\n",
    "\n"
   ]
  },
  {
   "cell_type": "code",
   "execution_count": 5,
   "metadata": {},
   "outputs": [],
   "source": [
    "contract_address = 'TMCBfg4XDFTLCZapnwAVHypW2sm9hB3okZ'\n",
    "TpunksTron = client_main_http.get_contract(contract_address)"
   ]
  },
  {
   "cell_type": "code",
   "execution_count": 6,
   "metadata": {},
   "outputs": [
    {
     "name": "stdout",
     "output_type": "stream",
     "text": [
      "max_nft_limit_tpunks: 10000\n"
     ]
    }
   ],
   "source": [
    "max_nft_limit_tpunks = TpunksTron.functions.MAX_NFT_SUPPLY.call()\n",
    "print('max_nft_limit_tpunks:',max_nft_limit_tpunks)"
   ]
  },
  {
   "cell_type": "code",
   "execution_count": 7,
   "metadata": {},
   "outputs": [],
   "source": [
    "# URI is external, i.e. not on-chain. I don't know how this is possible.. \n",
    "# example: https://gateway.btfs.io/btfs/QmYqVfk1caVZGViH2uiFhaZE9TJ2UfQchwKVsVYdgUVpnc/details/6997.json\n",
    "# We will use this link to extract information from EtherScan: https://www.larvalabs.com/blog/2021-8-18-18-0/on-chain-cryptopunks\n",
    "# Attributes: https://cryptopunks.app/cryptopunks/attributes"
   ]
  },
  {
   "cell_type": "code",
   "execution_count": 8,
   "metadata": {},
   "outputs": [
    {
     "name": "stdout",
     "output_type": "stream",
     "text": [
      "isConnected: True\n"
     ]
    }
   ],
   "source": [
    "# Extracting information from Etherscan.\n",
    "from web3 import Web3\n",
    "web3 = Web3(Web3.HTTPProvider(f'https://mainnet.infura.io/v3/{infura_api_key}'))\n",
    "print(\"isConnected:\",web3.isConnected())\n"
   ]
  },
  {
   "cell_type": "code",
   "execution_count": 9,
   "metadata": {},
   "outputs": [],
   "source": [
    "# import ABI\n",
    "with open('./ABIs/cryptoPunkABI.json') as f:\n",
    "    ABI = json.load(f)\n",
    "\n",
    "ADDRESS = '0x16F5A35647D6F03D5D3da7b35409D65ba03aF3B2'\n",
    "    \n",
    "cryptoPunksTraits = web3.eth.contract(address= ADDRESS, abi = ABI) "
   ]
  },
  {
   "cell_type": "code",
   "execution_count": 10,
   "metadata": {},
   "outputs": [],
   "source": [
    "Punk_Id = 2"
   ]
  },
  {
   "cell_type": "code",
   "execution_count": 11,
   "metadata": {},
   "outputs": [
    {
     "name": "stdout",
     "output_type": "stream",
     "text": [
      "Type, ...Attributes: Female 3, Wild Hair\n"
     ]
    }
   ],
   "source": [
    "# Intracting with contract\n",
    "print('Type, ...Attributes:',cryptoPunksTraits.functions.punkAttributes(Punk_Id).call())"
   ]
  },
  {
   "cell_type": "code",
   "execution_count": 12,
   "metadata": {},
   "outputs": [],
   "source": [
    "#Convert below in CSV"
   ]
  },
  {
   "cell_type": "code",
   "execution_count": 13,
   "metadata": {},
   "outputs": [
    {
     "name": "stdout",
     "output_type": "stream",
     "text": [
      "0, Female 2, Earring, Blonde Bob, Green Eye Shadow\n",
      "1, Male 1, Smile, Mohawk\n",
      "2, Female 3, Wild Hair\n",
      "3, Male 1, Wild Hair, Pipe, Nerd Glasses\n",
      "4, Male 2, Goat, Earring, Wild Hair, Big Shades\n",
      "5, Female 2, Earring, Half Shaved, Purple Eye Shadow\n",
      "6, Male 2, Do-rag\n",
      "7, Female 2, Spots, Wild White Hair, Clown Eyes Blue\n",
      "8, Male 1, Luxurious Beard, Messy Hair\n",
      "9, Male 2, Big Beard, Police Cap, Clown Nose\n"
     ]
    }
   ],
   "source": [
    "for i in range(10):\n",
    "    Punk_Id = i\n",
    "    print(str(Punk_Id)+ \",\", cryptoPunksTraits.functions.punkAttributes(Punk_Id).call())"
   ]
  },
  {
   "cell_type": "code",
   "execution_count": 14,
   "metadata": {},
   "outputs": [],
   "source": [
    "# "
   ]
  }
 ],
 "metadata": {
  "kernelspec": {
   "display_name": "Python 3",
   "language": "python",
   "name": "python3"
  },
  "language_info": {
   "codemirror_mode": {
    "name": "ipython",
    "version": 3
   },
   "file_extension": ".py",
   "mimetype": "text/x-python",
   "name": "python",
   "nbconvert_exporter": "python",
   "pygments_lexer": "ipython3",
   "version": "3.7.6"
  }
 },
 "nbformat": 4,
 "nbformat_minor": 4
}
