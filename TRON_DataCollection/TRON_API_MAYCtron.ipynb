{
 "cells": [
  {
   "cell_type": "markdown",
   "metadata": {},
   "source": [
    "## Tron Data Collection"
   ]
  },
  {
   "cell_type": "code",
   "execution_count": 1,
   "metadata": {},
   "outputs": [],
   "source": [
    "#Installing Required Libraries\n",
    "# TronPy (Already Installed)\n",
    "# !pip3 install tronpy"
   ]
  },
  {
   "cell_type": "code",
   "execution_count": 2,
   "metadata": {},
   "outputs": [],
   "source": [
    "# Connecting to Node (network)\n",
    "import tronpy\n",
    "from tronpy import Tron, keys\n",
    "import urllib.request\n",
    "import json\n",
    "# convert bytes to dict\n",
    "import ast"
   ]
  },
  {
   "cell_type": "code",
   "execution_count": 3,
   "metadata": {},
   "outputs": [],
   "source": [
    "# Importing Tron key\n",
    "with open('./Keys/secrets.json') as f:\n",
    "    tron_api_key = json.load(f)['api_keys']['tron_api']\n",
    "    \n",
    "with open('./Keys/secrets.json') as f:\n",
    "    infura_api_key = json.load(f)['api_keys']['infura_api']\n"
   ]
  },
  {
   "cell_type": "code",
   "execution_count": 4,
   "metadata": {},
   "outputs": [],
   "source": [
    "#HTTP provider\n",
    "from tronpy.providers import HTTPProvider\n",
    "client_main_http = Tron(HTTPProvider(api_key=tron_api_key))"
   ]
  },
  {
   "cell_type": "code",
   "execution_count": null,
   "metadata": {},
   "outputs": [],
   "source": []
  },
  {
   "cell_type": "code",
   "execution_count": 5,
   "metadata": {
    "scrolled": true
   },
   "outputs": [
    {
     "name": "stdout",
     "output_type": "stream",
     "text": [
      "get_latest_block_number:  45775914\n",
      "get_latest_block_id:  0000000002ba7c2a740404c93fba67fd1785efd6c67e6723521451c5f5404b19\n"
     ]
    }
   ],
   "source": [
    "# HTTP API CLIENT: Calling query APIs\n",
    "print('get_latest_block_number: ',client_main_http.get_latest_block_number())\n",
    "print('get_latest_block_id: ',client_main_http.get_latest_block_id())"
   ]
  },
  {
   "cell_type": "markdown",
   "metadata": {},
   "source": [
    "## Interacting with contract(s)"
   ]
  },
  {
   "cell_type": "markdown",
   "metadata": {},
   "source": [
    "### MAYCtron\n",
    "\n",
    "<ul>\n",
    "  <li>Collection: MAYCtron</li>\n",
    "  <li>Items: 10965 (MAX 15000)</li>\n",
    "  <li>All time volume: 358M</li>\n",
    "  <li>Month volume: 14K</li>\n",
    "  <li>Unique owners: 3285</li>\n",
    "  <li>Contract: TJjKSaj9UD9tQ27zvN6hpXiCwN2VsdNW7P</li>\n",
    "  <li>Number of Traits: 6</li>\n",
    "  <li>Collection link: https://apenft.io/collections/mayctron</li>\n",
    "  <li>Scanner Link: https://tronscan.io/#/token721/TJjKSaj9UD9tQ27zvN6hpXiCwN2VsdNW7P</li>\n",
    "</ul>\n",
    "    "
   ]
  },
  {
   "cell_type": "code",
   "execution_count": 6,
   "metadata": {},
   "outputs": [],
   "source": [
    "MAYCTron = client_main_http.get_contract('TJjKSaj9UD9tQ27zvN6hpXiCwN2VsdNW7P')"
   ]
  },
  {
   "cell_type": "code",
   "execution_count": 7,
   "metadata": {},
   "outputs": [],
   "source": [
    "# Getting number of items (Max Items)"
   ]
  },
  {
   "cell_type": "code",
   "execution_count": 8,
   "metadata": {},
   "outputs": [
    {
     "data": {
      "text/plain": [
       "15000"
      ]
     },
     "execution_count": 8,
     "metadata": {},
     "output_type": "execute_result"
    }
   ],
   "source": [
    "max_nft_limit_mayc = MAYCTron.functions.MINTING_LIMIT.call()\n",
    "max_nft_limit_mayc"
   ]
  },
  {
   "cell_type": "code",
   "execution_count": 9,
   "metadata": {},
   "outputs": [],
   "source": [
    "# uri_nft_bayc = BAYCTron.functions.\n",
    "# dir(BAYCTron.functions)\n",
    "url = MAYCTron.functions.tokenURI(5674)"
   ]
  },
  {
   "cell_type": "code",
   "execution_count": 10,
   "metadata": {},
   "outputs": [
    {
     "data": {
      "text/plain": [
       "'https://bayctron.com/mutant/5674'"
      ]
     },
     "execution_count": 10,
     "metadata": {},
     "output_type": "execute_result"
    }
   ],
   "source": [
    "url"
   ]
  },
  {
   "cell_type": "code",
   "execution_count": 11,
   "metadata": {},
   "outputs": [],
   "source": [
    "import urllib.request\n",
    "\n",
    "user_agent = 'Mozilla/5.0 (Windows; U; Windows NT 5.1; en-US; rv:1.9.0.7) Gecko/2009021910 Firefox/3.0.7'\n",
    "headers={'User-Agent':user_agent,} \n",
    "\n",
    "request=urllib.request.Request(url,None,headers) #The assembled request\n",
    "response = urllib.request.urlopen(request)\n",
    "response_data = response.read() # The data u need"
   ]
  },
  {
   "cell_type": "code",
   "execution_count": 12,
   "metadata": {},
   "outputs": [
    {
     "data": {
      "text/plain": [
       "b'{\"attributes\":[{\"name\":\"Background\",\"value\":\"M1 Army Green\",\"trait_type\":\"Background\"},{\"name\":\"Clothes\",\"value\":\"M1 Lumberjack Shirt\",\"trait_type\":\"Clothes\"},{\"name\":\"Earring\",\"trait_type\":\"Earring\"},{\"name\":\"Eyes\",\"value\":\"M1 Sleepy\",\"trait_type\":\"Eyes\"},{\"name\":\"Fur\",\"value\":\"M1 White\",\"trait_type\":\"Fur\"},{\"name\":\"Hat\",\"value\":\"M1 Horns\",\"trait_type\":\"Hat\"},{\"name\":\"Mouth\",\"value\":\"M1 Tongue Out\",\"trait_type\":\"Mouth\"},{\"name\":\"Name\",\"trait_type\":\"Name\"},{\"name\":\"Special\",\"trait_type\":\"Special\"}],\"tokenId\":\"5674\",\"name\":\"Mutant Ape #5674\",\"image\":\"https://ipfs.io/ipfs/QmXuSpXk6NP5Er8RQNCzuZD6VQnjzUWYvrQxsav4ojkMN9\",\"description\":\"Number one Bored Ape Club bringing Mutant Apes on Tron Network\"}'"
      ]
     },
     "execution_count": 12,
     "metadata": {},
     "output_type": "execute_result"
    }
   ],
   "source": [
    "response_data"
   ]
  },
  {
   "cell_type": "code",
   "execution_count": 13,
   "metadata": {},
   "outputs": [
    {
     "name": "stdout",
     "output_type": "stream",
     "text": [
      "{\"attributes\":[{\"name\":\"Background\",\"value\":\"M1 Army Green\",\"trait_type\":\"Background\"},{\"name\":\"Clothes\",\"value\":\"M1 Lumberjack Shirt\",\"trait_type\":\"Clothes\"},{\"name\":\"Earring\",\"trait_type\":\"Earring\"},{\"name\":\"Eyes\",\"value\":\"M1 Sleepy\",\"trait_type\":\"Eyes\"},{\"name\":\"Fur\",\"value\":\"M1 White\",\"trait_type\":\"Fur\"},{\"name\":\"Hat\",\"value\":\"M1 Horns\",\"trait_type\":\"Hat\"},{\"name\":\"Mouth\",\"value\":\"M1 Tongue Out\",\"trait_type\":\"Mouth\"},{\"name\":\"Name\",\"trait_type\":\"Name\"},{\"name\":\"Special\",\"trait_type\":\"Special\"}],\"tokenId\":\"5674\",\"name\":\"Mutant Ape #5674\",\"image\":\"https://ipfs.io/ipfs/QmXuSpXk6NP5Er8RQNCzuZD6VQnjzUWYvrQxsav4ojkMN9\",\"description\":\"Number one Bored Ape Club bringing Mutant Apes on Tron Network\"}\n"
     ]
    }
   ],
   "source": [
    "my_json = response_data.decode('utf8').replace(\"'\", '\"')\n",
    "print(my_json)"
   ]
  },
  {
   "cell_type": "code",
   "execution_count": 15,
   "metadata": {},
   "outputs": [
    {
     "name": "stdout",
     "output_type": "stream",
     "text": [
      "{\n",
      " \"attributes\": [\n",
      "  {\n",
      "   \"name\": \"Background\",\n",
      "   \"trait_type\": \"Background\",\n",
      "   \"value\": \"M1 Army Green\"\n",
      "  },\n",
      "  {\n",
      "   \"name\": \"Clothes\",\n",
      "   \"trait_type\": \"Clothes\",\n",
      "   \"value\": \"M1 Lumberjack Shirt\"\n",
      "  },\n",
      "  {\n",
      "   \"name\": \"Earring\",\n",
      "   \"trait_type\": \"Earring\"\n",
      "  },\n",
      "  {\n",
      "   \"name\": \"Eyes\",\n",
      "   \"trait_type\": \"Eyes\",\n",
      "   \"value\": \"M1 Sleepy\"\n",
      "  },\n",
      "  {\n",
      "   \"name\": \"Fur\",\n",
      "   \"trait_type\": \"Fur\",\n",
      "   \"value\": \"M1 White\"\n",
      "  },\n",
      "  {\n",
      "   \"name\": \"Hat\",\n",
      "   \"trait_type\": \"Hat\",\n",
      "   \"value\": \"M1 Horns\"\n",
      "  },\n",
      "  {\n",
      "   \"name\": \"Mouth\",\n",
      "   \"trait_type\": \"Mouth\",\n",
      "   \"value\": \"M1 Tongue Out\"\n",
      "  },\n",
      "  {\n",
      "   \"name\": \"Name\",\n",
      "   \"trait_type\": \"Name\"\n",
      "  },\n",
      "  {\n",
      "   \"name\": \"Special\",\n",
      "   \"trait_type\": \"Special\"\n",
      "  }\n",
      " ],\n",
      " \"description\": \"Number one Bored Ape Club bringing Mutant Apes on Tron Network\",\n",
      " \"image\": \"https://ipfs.io/ipfs/QmXuSpXk6NP5Er8RQNCzuZD6VQnjzUWYvrQxsav4ojkMN9\",\n",
      " \"name\": \"Mutant Ape #5674\",\n",
      " \"tokenId\": \"5674\"\n",
      "}\n"
     ]
    }
   ],
   "source": [
    "example_data = json.loads(my_json)\n",
    "s = json.dumps(example_data, indent=1, sort_keys=True)\n",
    "print(s)"
   ]
  },
  {
   "cell_type": "markdown",
   "metadata": {},
   "source": [
    "#### Creating Traits file\n",
    "We will be creating trails file: \n",
    "It will be a simple csv file with first row as header and followed by traits"
   ]
  },
  {
   "cell_type": "code",
   "execution_count": 16,
   "metadata": {},
   "outputs": [],
   "source": [
    "def creatDict(token_ID):\n",
    "    url = MAYCTron.functions.tokenURI(token_ID)\n",
    "    \n",
    "    user_agent = 'Mozilla/5.0 (Windows; U; Windows NT 5.1; en-US; rv:1.9.0.7) Gecko/2009021910 Firefox/3.0.7'\n",
    "    headers={'User-Agent':user_agent,} \n",
    "\n",
    "    request=urllib.request.Request(url,None,headers) #The assembled request\n",
    "    response = urllib.request.urlopen(request)\n",
    "    data = response.read() # The data u need\n",
    "    \n",
    "    dict_str = data.decode(\"UTF-8\")\n",
    "    my_data = ast.literal_eval(dict_str)\n",
    "    return my_data"
   ]
  },
  {
   "cell_type": "code",
   "execution_count": 17,
   "metadata": {},
   "outputs": [
    {
     "data": {
      "text/plain": [
       "['tokenId',\n",
       " 'Background',\n",
       " 'Clothes',\n",
       " 'Earring',\n",
       " 'Eyes',\n",
       " 'Fur',\n",
       " 'Hat',\n",
       " 'Mouth',\n",
       " 'Name',\n",
       " 'Special']"
      ]
     },
     "execution_count": 17,
     "metadata": {},
     "output_type": "execute_result"
    }
   ],
   "source": [
    "column_names = ['tokenId']\n",
    "for i in range(len(example_data['attributes'])):\n",
    "    traits = example_data['attributes'][i]['trait_type']\n",
    "    column_names.append(traits)\n",
    "    \n",
    "column_names"
   ]
  },
  {
   "cell_type": "code",
   "execution_count": 18,
   "metadata": {},
   "outputs": [
    {
     "name": "stdout",
     "output_type": "stream",
     "text": [
      "TokenId 1\n",
      "TokenId 2\n",
      "TokenId 3\n",
      "TokenId 4\n",
      "TokenId 5\n",
      "TokenId 6\n",
      "TokenId 7\n",
      "TokenId 8\n",
      "TokenId 9\n",
      "TokenId 10\n",
      "TokenId 11\n",
      "TokenId 12\n",
      "TokenId 13\n",
      "TokenId 14\n",
      "TokenId 15\n",
      "TokenId 16\n",
      "TokenId 17\n",
      "TokenId 18\n",
      "TokenId 19\n"
     ]
    }
   ],
   "source": [
    "apes_dataset = list()\n",
    "\n",
    "# get the information\n",
    "for i in range(1,max_nft_limit_mayc + 1):\n",
    "    apes_value = []\n",
    "    print('TokenId',i)\n",
    "    apes_value.append(i)\n",
    "    for j in range(len(creatDict(i)['attributes'])):\n",
    "        try:\n",
    "            apes_value.append(creatDict(i)['attributes'][j]['value'])\n",
    "#             print(creatDict(i)['attributes'][j]['name'],\":\",creatDict(i)['attributes'][j]['value'])\n",
    "        except:\n",
    "            apes_value.append('null')\n",
    "#             print(creatDict(i)['attributes'][j]['name'],\":\",'null')\n",
    "    apes_dataset.append(apes_value)"
   ]
  },
  {
   "cell_type": "code",
   "execution_count": 19,
   "metadata": {},
   "outputs": [],
   "source": [
    "# Writing to csv\n",
    "import csv\n",
    "with open('Mutant_apes_dataset.csv', 'w', newline='') as birds_file:\n",
    "    bird_writer = csv.writer(birds_file, delimiter=',', quotechar='\"', quoting=csv.QUOTE_MINIMAL)\n",
    "    bird_writer.writerow(column_names)\n",
    "    for row_index in range(len(apes_dataset)):\n",
    "        bird_writer.writerow(apes_dataset[row_index])\n"
   ]
  },
  {
   "cell_type": "code",
   "execution_count": null,
   "metadata": {},
   "outputs": [],
   "source": []
  }
 ],
 "metadata": {
  "kernelspec": {
   "display_name": "Python 3",
   "language": "python",
   "name": "python3"
  },
  "language_info": {
   "codemirror_mode": {
    "name": "ipython",
    "version": 3
   },
   "file_extension": ".py",
   "mimetype": "text/x-python",
   "name": "python",
   "nbconvert_exporter": "python",
   "pygments_lexer": "ipython3",
   "version": "3.7.6"
  }
 },
 "nbformat": 4,
 "nbformat_minor": 4
}
