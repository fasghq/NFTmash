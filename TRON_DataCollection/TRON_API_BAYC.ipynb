{
 "cells": [
  {
   "cell_type": "markdown",
   "metadata": {},
   "source": [
    "## Tron Data Collection"
   ]
  },
  {
   "cell_type": "code",
   "execution_count": 1,
   "metadata": {},
   "outputs": [],
   "source": [
    "#Installing Required Libraries\n",
    "# TronPy (Already Installed)\n",
    "# !pip3 install tronpy"
   ]
  },
  {
   "cell_type": "code",
   "execution_count": 2,
   "metadata": {},
   "outputs": [],
   "source": [
    "# Connecting to Node (network)\n",
    "import tronpy\n",
    "from tronpy import Tron, keys\n",
    "import urllib.request\n",
    "import json\n",
    "# convert bytes to dict\n",
    "import ast"
   ]
  },
  {
   "cell_type": "code",
   "execution_count": 3,
   "metadata": {},
   "outputs": [],
   "source": [
    "# Importing Tron key\n",
    "with open('./Keys/secrets.json') as f:\n",
    "    tron_api_key = json.load(f)['api_keys']['tron_api']\n",
    "    \n",
    "with open('./Keys/secrets.json') as f:\n",
    "    infura_api_key = json.load(f)['api_keys']['infura_api']\n"
   ]
  },
  {
   "cell_type": "code",
   "execution_count": 4,
   "metadata": {},
   "outputs": [],
   "source": [
    "#HTTP provider\n",
    "from tronpy.providers import HTTPProvider\n",
    "client_main_http = Tron(HTTPProvider(api_key=tron_api_key))"
   ]
  },
  {
   "cell_type": "code",
   "execution_count": null,
   "metadata": {},
   "outputs": [],
   "source": []
  },
  {
   "cell_type": "code",
   "execution_count": 5,
   "metadata": {
    "scrolled": true
   },
   "outputs": [
    {
     "name": "stdout",
     "output_type": "stream",
     "text": [
      "get_latest_block_number:  45858415\n",
      "get_latest_block_id:  0000000002bbbe6f610331571dca9ef28d5eaf9499d3984441e589900570a75e\n"
     ]
    }
   ],
   "source": [
    "# HTTP API CLIENT: Calling query APIs\n",
    "print('get_latest_block_number: ',client_main_http.get_latest_block_number())\n",
    "print('get_latest_block_id: ',client_main_http.get_latest_block_id())"
   ]
  },
  {
   "cell_type": "markdown",
   "metadata": {},
   "source": [
    "## Interacting with contract(s)"
   ]
  },
  {
   "cell_type": "markdown",
   "metadata": {},
   "source": [
    "### BAYCTron\n",
    "\n",
    "<ul>\n",
    "  <li>Collection: BAYCTron</li>\n",
    "  <li>Items: 10000</li>\n",
    "  <li>All time volume: 449M</li>\n",
    "  <li>Month volume: 1059K</li>\n",
    "  <li>Unique owners: 1300</li>\n",
    "  <li>Contract: TWi53fvZgTsW8tvAQmYVeThnBeyJqEfJhQ</li>\n",
    "  <li>Number of Traits: 6</li>\n",
    "  <li>Collection link: https://apenft.io/collections/BAYCTron</li>\n",
    "  <li>Scanner Link: https://tronscan.io/#/token721/TWi53fvZgTsW8tvAQmYVeThnBeyJqEfJhQ</li>\n",
    "</ul>\n",
    "    "
   ]
  },
  {
   "cell_type": "code",
   "execution_count": 6,
   "metadata": {},
   "outputs": [],
   "source": [
    "BAYCTron = client_main_http.get_contract('TWi53fvZgTsW8tvAQmYVeThnBeyJqEfJhQ')"
   ]
  },
  {
   "cell_type": "code",
   "execution_count": 7,
   "metadata": {},
   "outputs": [],
   "source": [
    "# Getting number of items (Max Items)"
   ]
  },
  {
   "cell_type": "code",
   "execution_count": 8,
   "metadata": {},
   "outputs": [],
   "source": [
    "max_nft_limit_bayc = BAYCTron.functions.MINTING_LIMIT.call()"
   ]
  },
  {
   "cell_type": "code",
   "execution_count": 9,
   "metadata": {},
   "outputs": [],
   "source": [
    "# uri_nft_bayc = BAYCTron.functions.\n",
    "# dir(BAYCTron.functions)\n",
    "url = BAYCTron.functions.tokenURI(8016)"
   ]
  },
  {
   "cell_type": "code",
   "execution_count": 10,
   "metadata": {},
   "outputs": [
    {
     "data": {
      "text/plain": [
       "'https://bayctron.com/bored/8016'"
      ]
     },
     "execution_count": 10,
     "metadata": {},
     "output_type": "execute_result"
    }
   ],
   "source": [
    "url"
   ]
  },
  {
   "cell_type": "code",
   "execution_count": 11,
   "metadata": {},
   "outputs": [],
   "source": [
    "import urllib.request\n",
    "\n",
    "user_agent = 'Mozilla/5.0 (Windows; U; Windows NT 5.1; en-US; rv:1.9.0.7) Gecko/2009021910 Firefox/3.0.7'\n",
    "headers={'User-Agent':user_agent,} \n",
    "\n",
    "request=urllib.request.Request(url,None,headers) #The assembled request\n",
    "response = urllib.request.urlopen(request)\n",
    "response_data = response.read() # The data u need"
   ]
  },
  {
   "cell_type": "code",
   "execution_count": 15,
   "metadata": {},
   "outputs": [
    {
     "data": {
      "text/plain": [
       "b'{\"attributes\":[{\"name\":\"Background\",\"value\":\"New Punk Blue\",\"trait_type\":\"Background\"},{\"name\":\"Clothes\",\"value\":\"Leather Jacket\",\"trait_type\":\"Clothes\"},{\"name\":\"Earring\",\"trait_type\":\"Earring\"},{\"name\":\"Eyes\",\"value\":\"Heart\",\"trait_type\":\"Eyes\"},{\"name\":\"Fur\",\"value\":\"Tan\",\"trait_type\":\"Fur\"},{\"name\":\"Hat\",\"value\":\"Beanie\",\"trait_type\":\"Hat\"},{\"name\":\"Mouth\",\"value\":\"Bored Pizza\",\"trait_type\":\"Mouth\"},{\"name\":\"Special\",\"trait_type\":\"Special\"}],\"tokenId\":\"8016\",\"name\":\"Bored Ape #8016\",\"image\":\"https://ipfs.io/ipfs/QmRQcq8SvVKYp4RXHQzzWLDkUrxqCi3uKsRfwwGVZM5MB8\",\"description\":\"We are bringing 10000 Bored Apes on TRON\"}'"
      ]
     },
     "execution_count": 15,
     "metadata": {},
     "output_type": "execute_result"
    }
   ],
   "source": [
    "response_data"
   ]
  },
  {
   "cell_type": "code",
   "execution_count": 16,
   "metadata": {},
   "outputs": [
    {
     "name": "stdout",
     "output_type": "stream",
     "text": [
      "{\"attributes\":[{\"name\":\"Background\",\"value\":\"New Punk Blue\",\"trait_type\":\"Background\"},{\"name\":\"Clothes\",\"value\":\"Leather Jacket\",\"trait_type\":\"Clothes\"},{\"name\":\"Earring\",\"trait_type\":\"Earring\"},{\"name\":\"Eyes\",\"value\":\"Heart\",\"trait_type\":\"Eyes\"},{\"name\":\"Fur\",\"value\":\"Tan\",\"trait_type\":\"Fur\"},{\"name\":\"Hat\",\"value\":\"Beanie\",\"trait_type\":\"Hat\"},{\"name\":\"Mouth\",\"value\":\"Bored Pizza\",\"trait_type\":\"Mouth\"},{\"name\":\"Special\",\"trait_type\":\"Special\"}],\"tokenId\":\"8016\",\"name\":\"Bored Ape #8016\",\"image\":\"https://ipfs.io/ipfs/QmRQcq8SvVKYp4RXHQzzWLDkUrxqCi3uKsRfwwGVZM5MB8\",\"description\":\"We are bringing 10000 Bored Apes on TRON\"}\n"
     ]
    }
   ],
   "source": [
    "my_json = response_data.decode('utf8').replace(\"'\", '\"')\n",
    "print(my_json)"
   ]
  },
  {
   "cell_type": "code",
   "execution_count": 17,
   "metadata": {},
   "outputs": [
    {
     "name": "stdout",
     "output_type": "stream",
     "text": [
      "{\n",
      " \"attributes\": [\n",
      "  {\n",
      "   \"name\": \"Background\",\n",
      "   \"trait_type\": \"Background\",\n",
      "   \"value\": \"New Punk Blue\"\n",
      "  },\n",
      "  {\n",
      "   \"name\": \"Clothes\",\n",
      "   \"trait_type\": \"Clothes\",\n",
      "   \"value\": \"Leather Jacket\"\n",
      "  },\n",
      "  {\n",
      "   \"name\": \"Earring\",\n",
      "   \"trait_type\": \"Earring\"\n",
      "  },\n",
      "  {\n",
      "   \"name\": \"Eyes\",\n",
      "   \"trait_type\": \"Eyes\",\n",
      "   \"value\": \"Heart\"\n",
      "  },\n",
      "  {\n",
      "   \"name\": \"Fur\",\n",
      "   \"trait_type\": \"Fur\",\n",
      "   \"value\": \"Tan\"\n",
      "  },\n",
      "  {\n",
      "   \"name\": \"Hat\",\n",
      "   \"trait_type\": \"Hat\",\n",
      "   \"value\": \"Beanie\"\n",
      "  },\n",
      "  {\n",
      "   \"name\": \"Mouth\",\n",
      "   \"trait_type\": \"Mouth\",\n",
      "   \"value\": \"Bored Pizza\"\n",
      "  },\n",
      "  {\n",
      "   \"name\": \"Special\",\n",
      "   \"trait_type\": \"Special\"\n",
      "  }\n",
      " ],\n",
      " \"description\": \"We are bringing 10000 Bored Apes on TRON\",\n",
      " \"image\": \"https://ipfs.io/ipfs/QmRQcq8SvVKYp4RXHQzzWLDkUrxqCi3uKsRfwwGVZM5MB8\",\n",
      " \"name\": \"Bored Ape #8016\",\n",
      " \"tokenId\": \"8016\"\n",
      "}\n"
     ]
    }
   ],
   "source": [
    "example_data = json.loads(my_json)\n",
    "s = json.dumps(example_data, indent=1, sort_keys=True)\n",
    "print(s)"
   ]
  },
  {
   "cell_type": "markdown",
   "metadata": {},
   "source": [
    "#### Creating Traits file\n",
    "We will be creating trails file: \n",
    "It will be a simple csv file with first row as header and followed by traits"
   ]
  },
  {
   "cell_type": "code",
   "execution_count": 18,
   "metadata": {},
   "outputs": [],
   "source": [
    "# Header:tokenId + attributes[\"trait_type\"]"
   ]
  },
  {
   "cell_type": "code",
   "execution_count": 19,
   "metadata": {},
   "outputs": [],
   "source": [
    "# Creating dictionary for 10 apes\n",
    "def creatDict(token_ID):\n",
    "    url = BAYCTron.functions.tokenURI(token_ID)\n",
    "    \n",
    "    user_agent = 'Mozilla/5.0 (Windows; U; Windows NT 5.1; en-US; rv:1.9.0.7) Gecko/2009021910 Firefox/3.0.7'\n",
    "    headers={'User-Agent':user_agent,} \n",
    "\n",
    "    request=urllib.request.Request(url,None,headers) #The assembled request\n",
    "    response = urllib.request.urlopen(request)\n",
    "    data = response.read() # The data u need\n",
    "    \n",
    "    dict_str = data.decode(\"UTF-8\")\n",
    "    my_data = ast.literal_eval(dict_str)\n",
    "    return my_data"
   ]
  },
  {
   "cell_type": "code",
   "execution_count": 20,
   "metadata": {},
   "outputs": [
    {
     "data": {
      "text/plain": [
       "['tokenId',\n",
       " 'Background',\n",
       " 'Clothes',\n",
       " 'Earring',\n",
       " 'Eyes',\n",
       " 'Fur',\n",
       " 'Hat',\n",
       " 'Mouth',\n",
       " 'Special']"
      ]
     },
     "execution_count": 20,
     "metadata": {},
     "output_type": "execute_result"
    }
   ],
   "source": [
    "column_names = ['tokenId']\n",
    "for i in range(len(example_data['attributes'])):\n",
    "    traits = example_data['attributes'][i]['trait_type']\n",
    "    column_names.append(traits)\n",
    "    \n",
    "column_names"
   ]
  },
  {
   "cell_type": "code",
   "execution_count": 23,
   "metadata": {},
   "outputs": [
    {
     "name": "stdout",
     "output_type": "stream",
     "text": [
      "TokenId 1\n",
      "TokenId 2\n",
      "TokenId 3\n",
      "TokenId 4\n",
      "TokenId 5\n",
      "TokenId 6\n",
      "TokenId 7\n",
      "TokenId 8\n",
      "TokenId 9\n",
      "TokenId 10\n",
      "TokenId 11\n",
      "TokenId 12\n",
      "TokenId 13\n",
      "TokenId 14\n",
      "TokenId 15\n",
      "TokenId 16\n",
      "TokenId 17\n",
      "TokenId 18\n",
      "TokenId 19\n",
      "TokenId 20\n"
     ]
    }
   ],
   "source": [
    "apes_dataset = list()\n",
    "\n",
    "# get the information\n",
    "for i in range(1,max_nft_limit_bayc + 1):\n",
    "    apes_value = []\n",
    "    print('TokenId',i)\n",
    "    apes_value.append(i)\n",
    "    for j in range(len(creatDict(i)['attributes'])):\n",
    "        try:\n",
    "            apes_value.append(creatDict(i)['attributes'][j]['value'])\n",
    "#             print(creatDict(i)['attributes'][j]['name'],\":\",creatDict(i)['attributes'][j]['value'])\n",
    "        except:\n",
    "            apes_value.append('null')\n",
    "#             print(creatDict(i)['attributes'][j]['name'],\":\",'null')\n",
    "    apes_dataset.append(apes_value)"
   ]
  },
  {
   "cell_type": "code",
   "execution_count": 24,
   "metadata": {},
   "outputs": [],
   "source": [
    "# Writing to csv\n",
    "import csv\n",
    "with open('apes_dataset.csv', 'w', newline='') as birds_file:\n",
    "    bird_writer = csv.writer(birds_file, delimiter=',', quotechar='\"', quoting=csv.QUOTE_MINIMAL)\n",
    "    bird_writer.writerow(column_names)\n",
    "    for row_index in range(len(apes_dataset)):\n",
    "        bird_writer.writerow(apes_dataset[row_index])\n",
    "\n",
    "        "
   ]
  },
  {
   "cell_type": "code",
   "execution_count": null,
   "metadata": {},
   "outputs": [],
   "source": []
  },
  {
   "cell_type": "code",
   "execution_count": null,
   "metadata": {},
   "outputs": [],
   "source": []
  }
 ],
 "metadata": {
  "kernelspec": {
   "display_name": "Python 3",
   "language": "python",
   "name": "python3"
  },
  "language_info": {
   "codemirror_mode": {
    "name": "ipython",
    "version": 3
   },
   "file_extension": ".py",
   "mimetype": "text/x-python",
   "name": "python",
   "nbconvert_exporter": "python",
   "pygments_lexer": "ipython3",
   "version": "3.7.6"
  }
 },
 "nbformat": 4,
 "nbformat_minor": 4
}
