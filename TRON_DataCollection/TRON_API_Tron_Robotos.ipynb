{
 "cells": [
  {
   "cell_type": "markdown",
   "metadata": {},
   "source": [
    "## Tron Data Collection"
   ]
  },
  {
   "cell_type": "code",
   "execution_count": 1,
   "metadata": {},
   "outputs": [],
   "source": [
    "#Installing Required Libraries\n",
    "# TronPy (Already Installed)\n",
    "# !pip3 install tronpy"
   ]
  },
  {
   "cell_type": "code",
   "execution_count": 2,
   "metadata": {},
   "outputs": [],
   "source": [
    "# Connecting to Node (network)\n",
    "import tronpy\n",
    "from tronpy import Tron, keys\n",
    "import urllib.request\n",
    "import json"
   ]
  },
  {
   "cell_type": "code",
   "execution_count": 3,
   "metadata": {},
   "outputs": [],
   "source": [
    "# Mainnet\n",
    "client_main = Tron()\n",
    "# testnet (example nile or shasta)\n",
    "client_test = Tron(network=\"nile\")"
   ]
  },
  {
   "cell_type": "code",
   "execution_count": 4,
   "metadata": {},
   "outputs": [],
   "source": [
    "# We will be working on the mainnet."
   ]
  },
  {
   "cell_type": "code",
   "execution_count": 5,
   "metadata": {},
   "outputs": [
    {
     "name": "stdout",
     "output_type": "stream",
     "text": [
      "random_private_key: 8e70f942f2054958491018a743cf2ecff8c9edf81f93684332d634124d41dc8a\n"
     ]
    }
   ],
   "source": [
    "# Keys and Addresses\n",
    "random_private_key = keys.PrivateKey.random()\n",
    "print('random_private_key:', keys.PrivateKey.random())\n"
   ]
  },
  {
   "cell_type": "code",
   "execution_count": 6,
   "metadata": {},
   "outputs": [
    {
     "name": "stdout",
     "output_type": "stream",
     "text": [
      "keyPriv: beacc3b58bb09597a1c63e3ab0149b5395e11c303a3c4c4414992dbca4fc74cb\n",
      "<class 'tronpy.keys.PrivateKey'>\n"
     ]
    }
   ],
   "source": [
    "type(random_private_key)\n",
    "keyPriv = keys.PrivateKey.fromhex(str(random_private_key))\n",
    "print('keyPriv:',keyPriv)\n",
    "print(type(keyPriv))"
   ]
  },
  {
   "cell_type": "code",
   "execution_count": 7,
   "metadata": {},
   "outputs": [
    {
     "data": {
      "text/plain": [
       "{'base58check_address': 'TC3A9jaBgRfeh6EEormk14BkY9gR8ijmxV',\n",
       " 'hex_address': '4116af8937b8f8f33a4671628aeb0020a702385f85',\n",
       " 'private_key': 'beacc3b58bb09597a1c63e3ab0149b5395e11c303a3c4c4414992dbca4fc74cb',\n",
       " 'public_key': 'e6461b4bddfe8f62700472cf22ab377a74e3395b2734c2adbcfe9a533dd5069a492446924e66e96028965cc0d1a841a2f40ed165b2d33253c9433601e227905f'}"
      ]
     },
     "execution_count": 7,
     "metadata": {},
     "output_type": "execute_result"
    }
   ],
   "source": [
    "# Public Key\n",
    "objectCreated = tronpy.AsyncTron()\n",
    "objectCreated.generate_address(priv_key = random_private_key)"
   ]
  },
  {
   "cell_type": "code",
   "execution_count": 8,
   "metadata": {},
   "outputs": [],
   "source": [
    "# Importing Tron key\n",
    "with open('./Keys/secrets.json') as f:\n",
    "    tron_api_key = json.load(f)['api_keys']['tron_api']\n",
    "    \n",
    "with open('./Keys/secrets.json') as f:\n",
    "    infura_api_key = json.load(f)['api_keys']['infura_api']"
   ]
  },
  {
   "cell_type": "code",
   "execution_count": 9,
   "metadata": {},
   "outputs": [],
   "source": [
    "#HTTP provider\n",
    "from tronpy.providers import HTTPProvider\n",
    "client_main_http = Tron(HTTPProvider(api_key=tron_api_key))"
   ]
  },
  {
   "cell_type": "code",
   "execution_count": null,
   "metadata": {},
   "outputs": [],
   "source": []
  },
  {
   "cell_type": "code",
   "execution_count": 10,
   "metadata": {
    "scrolled": true
   },
   "outputs": [
    {
     "name": "stdout",
     "output_type": "stream",
     "text": [
      "get_latest_block_number:  45628887\n",
      "get_latest_block_id:  0000000002b83dd7bd2074ddf5db2f8c29b861daa60dc909d272b61e499a066d\n"
     ]
    }
   ],
   "source": [
    "# HTTP API CLIENT: Calling query APIs\n",
    "print('get_latest_block_number: ',client_main_http.get_latest_block_number())\n",
    "print('get_latest_block_id: ',client_main_http.get_latest_block_id())"
   ]
  },
  {
   "cell_type": "markdown",
   "metadata": {},
   "source": [
    "## Interacting with contract(s)"
   ]
  },
  {
   "cell_type": "markdown",
   "metadata": {},
   "source": [
    "### Tron Robotos\n",
    "\n",
    "<ul>\n",
    "  <li>Collection: Tron Robotos</li>\n",
    "  <li>Items: 442 (MAX 9999)</li>\n",
    "  <li>All time volume: 249K</li>\n",
    "  <li>Month volume: 11K</li>\n",
    "  <li>Unique owners: 143</li>\n",
    "  <li>Contract: TPt2gdre3JzZGJ1x2tREW939dKkjUqYhxV</li>\n",
    "  <li>Number of Traits: 12</li>\n",
    "  <li>Collection link: https://apenft.io/collections/tronrobotos</li>\n",
    "  <li>Scanner Link: https://tronscan.org/#/token721/TPt2gdre3JzZGJ1x2tREW939dKkjUqYhxV</li>\n",
    "</ul>\n",
    "    "
   ]
  },
  {
   "cell_type": "code",
   "execution_count": 11,
   "metadata": {},
   "outputs": [],
   "source": [
    "RobotTron = client_main_http.get_contract('TPt2gdre3JzZGJ1x2tREW939dKkjUqYhxV')"
   ]
  },
  {
   "cell_type": "code",
   "execution_count": 12,
   "metadata": {},
   "outputs": [],
   "source": [
    "# Getting number of items (Max Items)"
   ]
  },
  {
   "cell_type": "code",
   "execution_count": 13,
   "metadata": {},
   "outputs": [
    {
     "data": {
      "text/plain": [
       "9998"
      ]
     },
     "execution_count": 13,
     "metadata": {},
     "output_type": "execute_result"
    }
   ],
   "source": [
    "max_nft_limit_robot = RobotTron.functions.maxSupply.call()\n",
    "max_nft_limit_robot"
   ]
  },
  {
   "cell_type": "code",
   "execution_count": 14,
   "metadata": {},
   "outputs": [],
   "source": [
    "# Comparatively the TRON network is new meaning total supply is 448 as of 3 Nov 2022 04:17 EST\n",
    "# At the moment, We will use Etherscan to get the traits."
   ]
  },
  {
   "cell_type": "code",
   "execution_count": 15,
   "metadata": {},
   "outputs": [
    {
     "name": "stdout",
     "output_type": "stream",
     "text": [
      "isConnected: True\n"
     ]
    }
   ],
   "source": [
    "# Extracting information from Etherscan.\n",
    "from web3 import Web3\n",
    "web3 = Web3(Web3.HTTPProvider(f'https://mainnet.infura.io/v3/{infura_api_key}'))\n",
    "print(\"isConnected:\",web3.isConnected())\n"
   ]
  },
  {
   "cell_type": "code",
   "execution_count": 16,
   "metadata": {},
   "outputs": [],
   "source": [
    "with open('./ABIs/robotosABI.json') as f:\n",
    "    ABI = json.load(f)\n",
    "\n",
    "ADDRESS = '0x099689220846644F87D1137665CDED7BF3422747'\n",
    "    \n",
    "robotosTraits = web3.eth.contract(address= ADDRESS, abi = ABI) "
   ]
  },
  {
   "cell_type": "code",
   "execution_count": 17,
   "metadata": {},
   "outputs": [],
   "source": [
    "robotos_Id = 9877"
   ]
  },
  {
   "cell_type": "code",
   "execution_count": 18,
   "metadata": {},
   "outputs": [],
   "source": [
    "url = robotosTraits.functions.tokenURI(robotos_Id).call()"
   ]
  },
  {
   "cell_type": "code",
   "execution_count": 19,
   "metadata": {},
   "outputs": [
    {
     "data": {
      "text/plain": [
       "'https://gateway.pinata.cloud/ipfs/QmQh36CsceXZoqS7v9YQLUyxXdRmWd8YWTBUz7WCXsiVty/9877'"
      ]
     },
     "execution_count": 19,
     "metadata": {},
     "output_type": "execute_result"
    }
   ],
   "source": [
    "url"
   ]
  },
  {
   "cell_type": "code",
   "execution_count": 20,
   "metadata": {},
   "outputs": [
    {
     "data": {
      "text/plain": [
       "b'{\\n  \"attributes\": [\\n    {\\n      \"trait_type\": \"Robot Type\",\\n      \"value\": \"Roboto\"\\n    },\\n    {\\n      \"trait_type\": \"Backpack\",\\n      \"value\": \"Brewing Lab\"\\n    },\\n    {\\n      \"trait_type\": \"Arm\",\\n      \"value\": \"Cruncher\"\\n    },\\n    {\\n      \"trait_type\": \"Body\",\\n      \"value\": \"Rugged Shirt\"\\n    },\\n    {\\n      \"trait_type\": \"Head Shape\",\\n      \"value\": \"Boxy Head\"\\n    },\\n    {\\n      \"trait_type\": \"Eyes\",\\n      \"value\": \"Hey\"\\n    },\\n    {\\n      \"trait_type\": \"Ear\",\\n      \"value\": \"Chip\"\\n    },\\n    {\\n      \"trait_type\": \"Mouth\",\\n      \"value\": \"Grill\"\\n    },\\n    {\\n      \"trait_type\": \"Top\",\\n      \"value\": \"Big Horns\"\\n    },\\n    {\\n      \"trait_type\": \"Chassis Color\",\\n      \"value\": \"Teal\"\\n    },\\n    {\\n      \"trait_type\": \"Background Color\",\\n      \"value\": \"Digital Blue\"\\n    }\\n  ],\\n  \"description\": \"Robotos is a collection of algorithmically generated droid characters designed by Pablo Stanley\",\\n  \"image\": \"https://gateway.pinata.cloud/ipfs/QmfNa5kKBECXy1vtpQ81arL8SXqT8e8ZFNvKNe9uQzpNzk\",\\n  \"name\": \"Roboto #9877\"\\n}\\n'"
      ]
     },
     "execution_count": 20,
     "metadata": {},
     "output_type": "execute_result"
    }
   ],
   "source": [
    "import urllib.request\n",
    "\n",
    "user_agent = 'Mozilla/5.0 (Windows; U; Windows NT 5.1; en-US; rv:1.9.0.7) Gecko/2009021910 Firefox/3.0.7'\n",
    "headers={'User-Agent':user_agent,} \n",
    "\n",
    "request=urllib.request.Request(url,None,headers) #The assembled request\n",
    "response = urllib.request.urlopen(request)\n",
    "response_data = response.read() # The data u need\n",
    "\n",
    "response_data"
   ]
  },
  {
   "cell_type": "code",
   "execution_count": 21,
   "metadata": {},
   "outputs": [
    {
     "name": "stdout",
     "output_type": "stream",
     "text": [
      "{\n",
      "  \"attributes\": [\n",
      "    {\n",
      "      \"trait_type\": \"Robot Type\",\n",
      "      \"value\": \"Roboto\"\n",
      "    },\n",
      "    {\n",
      "      \"trait_type\": \"Backpack\",\n",
      "      \"value\": \"Brewing Lab\"\n",
      "    },\n",
      "    {\n",
      "      \"trait_type\": \"Arm\",\n",
      "      \"value\": \"Cruncher\"\n",
      "    },\n",
      "    {\n",
      "      \"trait_type\": \"Body\",\n",
      "      \"value\": \"Rugged Shirt\"\n",
      "    },\n",
      "    {\n",
      "      \"trait_type\": \"Head Shape\",\n",
      "      \"value\": \"Boxy Head\"\n",
      "    },\n",
      "    {\n",
      "      \"trait_type\": \"Eyes\",\n",
      "      \"value\": \"Hey\"\n",
      "    },\n",
      "    {\n",
      "      \"trait_type\": \"Ear\",\n",
      "      \"value\": \"Chip\"\n",
      "    },\n",
      "    {\n",
      "      \"trait_type\": \"Mouth\",\n",
      "      \"value\": \"Grill\"\n",
      "    },\n",
      "    {\n",
      "      \"trait_type\": \"Top\",\n",
      "      \"value\": \"Big Horns\"\n",
      "    },\n",
      "    {\n",
      "      \"trait_type\": \"Chassis Color\",\n",
      "      \"value\": \"Teal\"\n",
      "    },\n",
      "    {\n",
      "      \"trait_type\": \"Background Color\",\n",
      "      \"value\": \"Digital Blue\"\n",
      "    }\n",
      "  ],\n",
      "  \"description\": \"Robotos is a collection of algorithmically generated droid characters designed by Pablo Stanley\",\n",
      "  \"image\": \"https://gateway.pinata.cloud/ipfs/QmfNa5kKBECXy1vtpQ81arL8SXqT8e8ZFNvKNe9uQzpNzk\",\n",
      "  \"name\": \"Roboto #9877\"\n",
      "}\n",
      "\n"
     ]
    }
   ],
   "source": [
    "my_json = response_data.decode('utf8').replace(\"'\", '\"')\n",
    "print(my_json)"
   ]
  },
  {
   "cell_type": "code",
   "execution_count": 22,
   "metadata": {},
   "outputs": [
    {
     "name": "stdout",
     "output_type": "stream",
     "text": [
      "{\n",
      " \"attributes\": [\n",
      "  {\n",
      "   \"trait_type\": \"Robot Type\",\n",
      "   \"value\": \"Roboto\"\n",
      "  },\n",
      "  {\n",
      "   \"trait_type\": \"Backpack\",\n",
      "   \"value\": \"Brewing Lab\"\n",
      "  },\n",
      "  {\n",
      "   \"trait_type\": \"Arm\",\n",
      "   \"value\": \"Cruncher\"\n",
      "  },\n",
      "  {\n",
      "   \"trait_type\": \"Body\",\n",
      "   \"value\": \"Rugged Shirt\"\n",
      "  },\n",
      "  {\n",
      "   \"trait_type\": \"Head Shape\",\n",
      "   \"value\": \"Boxy Head\"\n",
      "  },\n",
      "  {\n",
      "   \"trait_type\": \"Eyes\",\n",
      "   \"value\": \"Hey\"\n",
      "  },\n",
      "  {\n",
      "   \"trait_type\": \"Ear\",\n",
      "   \"value\": \"Chip\"\n",
      "  },\n",
      "  {\n",
      "   \"trait_type\": \"Mouth\",\n",
      "   \"value\": \"Grill\"\n",
      "  },\n",
      "  {\n",
      "   \"trait_type\": \"Top\",\n",
      "   \"value\": \"Big Horns\"\n",
      "  },\n",
      "  {\n",
      "   \"trait_type\": \"Chassis Color\",\n",
      "   \"value\": \"Teal\"\n",
      "  },\n",
      "  {\n",
      "   \"trait_type\": \"Background Color\",\n",
      "   \"value\": \"Digital Blue\"\n",
      "  }\n",
      " ],\n",
      " \"description\": \"Robotos is a collection of algorithmically generated droid characters designed by Pablo Stanley\",\n",
      " \"image\": \"https://gateway.pinata.cloud/ipfs/QmfNa5kKBECXy1vtpQ81arL8SXqT8e8ZFNvKNe9uQzpNzk\",\n",
      " \"name\": \"Roboto #9877\"\n",
      "}\n"
     ]
    }
   ],
   "source": [
    "data = json.loads(my_json)\n",
    "s = json.dumps(data, indent=1, sort_keys=True)\n",
    "print(s)"
   ]
  },
  {
   "cell_type": "code",
   "execution_count": null,
   "metadata": {},
   "outputs": [],
   "source": []
  },
  {
   "cell_type": "code",
   "execution_count": null,
   "metadata": {},
   "outputs": [],
   "source": []
  },
  {
   "cell_type": "code",
   "execution_count": null,
   "metadata": {},
   "outputs": [],
   "source": []
  },
  {
   "cell_type": "code",
   "execution_count": null,
   "metadata": {},
   "outputs": [],
   "source": []
  }
 ],
 "metadata": {
  "kernelspec": {
   "display_name": "Python 3",
   "language": "python",
   "name": "python3"
  },
  "language_info": {
   "codemirror_mode": {
    "name": "ipython",
    "version": 3
   },
   "file_extension": ".py",
   "mimetype": "text/x-python",
   "name": "python",
   "nbconvert_exporter": "python",
   "pygments_lexer": "ipython3",
   "version": "3.7.6"
  }
 },
 "nbformat": 4,
 "nbformat_minor": 4
}
