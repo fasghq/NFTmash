{
 "cells": [
  {
   "cell_type": "markdown",
   "metadata": {},
   "source": [
    "## Tron Data Collection"
   ]
  },
  {
   "cell_type": "code",
   "execution_count": 1,
   "metadata": {},
   "outputs": [],
   "source": [
    "#Installing Required Libraries\n",
    "# TronPy (Already Installed)\n",
    "# !pip3 install tronpy"
   ]
  },
  {
   "cell_type": "code",
   "execution_count": 2,
   "metadata": {},
   "outputs": [],
   "source": [
    "# Connecting to Node (network)\n",
    "import tronpy\n",
    "from tronpy import Tron, keys\n",
    "import urllib.request\n",
    "import json\n",
    "# convert bytes to dict\n",
    "import ast"
   ]
  },
  {
   "cell_type": "code",
   "execution_count": null,
   "metadata": {},
   "outputs": [],
   "source": [
    "with open('./Keys/secrets.json') as f:\n",
    "    tron_api_key = json.load(f)['api_keys']['tron_api']\n",
    "    \n",
    "with open('./Keys/secrets.json') as f:\n",
    "    infura_api_key = json.load(f)['api_keys']['infura_api']"
   ]
  },
  {
   "cell_type": "code",
   "execution_count": 8,
   "metadata": {},
   "outputs": [],
   "source": [
    "#HTTP provider\n",
    "from tronpy.providers import HTTPProvider\n",
    "client_main_http = Tron(HTTPProvider(api_key=tron_api_key))"
   ]
  },
  {
   "cell_type": "code",
   "execution_count": null,
   "metadata": {},
   "outputs": [],
   "source": []
  },
  {
   "cell_type": "code",
   "execution_count": 9,
   "metadata": {
    "scrolled": true
   },
   "outputs": [
    {
     "name": "stdout",
     "output_type": "stream",
     "text": [
      "get_latest_block_number:  45603435\n",
      "get_latest_block_id:  0000000002b7da6b2c0ca9e6d6da77bcbb86640c065d325490feb37f7b0e4e7f\n"
     ]
    }
   ],
   "source": [
    "# HTTP API CLIENT: Calling query APIs\n",
    "print('get_latest_block_number: ',client_main_http.get_latest_block_number())\n",
    "print('get_latest_block_id: ',client_main_http.get_latest_block_id())"
   ]
  },
  {
   "cell_type": "markdown",
   "metadata": {},
   "source": [
    "## Interacting with contract(s)"
   ]
  },
  {
   "cell_type": "markdown",
   "metadata": {},
   "source": [
    "### MAYCtron\n",
    "\n",
    "<ul>\n",
    "  <li>Collection: Tron Invisible Friends</li>\n",
    "  <li>Items: 1016 (MAX 5000)</li>\n",
    "  <li>All time volume: 296M</li>\n",
    "  <li>Month volume: 27K</li>\n",
    "  <li>Unique owners: 423</li>\n",
    "  <li>Contract: TYq7i4ZZGCxQv84UDz6XwRciGMs6VpTjMW</li>\n",
    "  <li>Number of Traits: 12</li>\n",
    "  <li>Collection link: https://apenft.io/collections/tron-invisible-friends</li>\n",
    "  <li>Scanner Link: https://tronscan.io/#/token721/TYq7i4ZZGCxQv84UDz6XwRciGMs6VpTjMW</li>\n",
    "</ul>\n",
    "    "
   ]
  },
  {
   "cell_type": "code",
   "execution_count": 10,
   "metadata": {},
   "outputs": [],
   "source": [
    "IFTron = client_main_http.get_contract('TYq7i4ZZGCxQv84UDz6XwRciGMs6VpTjMW')"
   ]
  },
  {
   "cell_type": "code",
   "execution_count": 11,
   "metadata": {},
   "outputs": [],
   "source": [
    "# Getting number of items (Max Items)"
   ]
  },
  {
   "cell_type": "code",
   "execution_count": 12,
   "metadata": {},
   "outputs": [
    {
     "data": {
      "text/plain": [
       "5000"
      ]
     },
     "execution_count": 12,
     "metadata": {},
     "output_type": "execute_result"
    }
   ],
   "source": [
    "max_nft_limit_IF = IFTron.functions.MAX_NFT_SUPPLY.call()\n",
    "max_nft_limit_IF"
   ]
  },
  {
   "cell_type": "code",
   "execution_count": 13,
   "metadata": {},
   "outputs": [],
   "source": [
    "# uri_nft_bayc = BAYCTron.functions.\n",
    "# dir(BAYCTron.functions)\n",
    "url = IFTron.functions.tokenURI(1000)"
   ]
  },
  {
   "cell_type": "code",
   "execution_count": 14,
   "metadata": {},
   "outputs": [
    {
     "data": {
      "text/plain": [
       "'https://ipfs.io/ipfs/QmarGRwVKPaCe2s5QSSTMEdbYDwKxFz6bAn58YZPPcWc7k/1000'"
      ]
     },
     "execution_count": 14,
     "metadata": {},
     "output_type": "execute_result"
    }
   ],
   "source": [
    "url"
   ]
  },
  {
   "cell_type": "code",
   "execution_count": 15,
   "metadata": {},
   "outputs": [],
   "source": [
    "import urllib.request\n",
    "\n",
    "user_agent = 'Mozilla/5.0 (Windows; U; Windows NT 5.1; en-US; rv:1.9.0.7) Gecko/2009021910 Firefox/3.0.7'\n",
    "headers={'User-Agent':user_agent,} \n",
    "\n",
    "request=urllib.request.Request(url,None,headers) #The assembled request\n",
    "response = urllib.request.urlopen(request)\n",
    "response_data = response.read() # The data u need"
   ]
  },
  {
   "cell_type": "code",
   "execution_count": 16,
   "metadata": {},
   "outputs": [
    {
     "data": {
      "text/plain": [
       "b'{\"name\":\"Invisible Friends #1000\",\"description\":\"5,000 animated Invisible Friends hiding in the metaverse. A collection by Markus Magnusson & Random Character Collective.\",\"image\":\"ipfs://QmXmuSenZRnofhGMz2NyT3Yc4Zrty1TypuiBKDcaBsNw9V/1000.gif\",\"attributes\":[{\"trait_type\":\"Feet\",\"value\":\"Forest Moss Sneakers\"},{\"trait_type\":\"Legs\",\"value\":\"Lavender Pants\"},{\"trait_type\":\"Upper Body\",\"value\":\"Orange Puffer Jacket\"},{\"trait_type\":\"Sleeves\",\"value\":\"Long Sleeves\"},{\"trait_type\":\"Hat\",\"value\":\"Light Blue Beanie\"},{\"trait_type\":\"Bag\",\"value\":\"Grey Backpack with Slingshot\"},{\"trait_type\":\"Right Arm\",\"value\":\"Dog\"},{\"trait_type\":\"Left Arm\",\"value\":\"Scientist\"},{\"trait_type\":\"Background\",\"value\":\"Blue\"}]}'"
      ]
     },
     "execution_count": 16,
     "metadata": {},
     "output_type": "execute_result"
    }
   ],
   "source": [
    "response_data"
   ]
  },
  {
   "cell_type": "code",
   "execution_count": 17,
   "metadata": {},
   "outputs": [
    {
     "name": "stdout",
     "output_type": "stream",
     "text": [
      "{\"name\":\"Invisible Friends #1000\",\"description\":\"5,000 animated Invisible Friends hiding in the metaverse. A collection by Markus Magnusson & Random Character Collective.\",\"image\":\"ipfs://QmXmuSenZRnofhGMz2NyT3Yc4Zrty1TypuiBKDcaBsNw9V/1000.gif\",\"attributes\":[{\"trait_type\":\"Feet\",\"value\":\"Forest Moss Sneakers\"},{\"trait_type\":\"Legs\",\"value\":\"Lavender Pants\"},{\"trait_type\":\"Upper Body\",\"value\":\"Orange Puffer Jacket\"},{\"trait_type\":\"Sleeves\",\"value\":\"Long Sleeves\"},{\"trait_type\":\"Hat\",\"value\":\"Light Blue Beanie\"},{\"trait_type\":\"Bag\",\"value\":\"Grey Backpack with Slingshot\"},{\"trait_type\":\"Right Arm\",\"value\":\"Dog\"},{\"trait_type\":\"Left Arm\",\"value\":\"Scientist\"},{\"trait_type\":\"Background\",\"value\":\"Blue\"}]}\n"
     ]
    }
   ],
   "source": [
    "my_json = response_data.decode('utf8').replace(\"'\", '\"')\n",
    "print(my_json)"
   ]
  },
  {
   "cell_type": "code",
   "execution_count": 18,
   "metadata": {},
   "outputs": [
    {
     "name": "stdout",
     "output_type": "stream",
     "text": [
      "{\n",
      " \"attributes\": [\n",
      "  {\n",
      "   \"trait_type\": \"Feet\",\n",
      "   \"value\": \"Forest Moss Sneakers\"\n",
      "  },\n",
      "  {\n",
      "   \"trait_type\": \"Legs\",\n",
      "   \"value\": \"Lavender Pants\"\n",
      "  },\n",
      "  {\n",
      "   \"trait_type\": \"Upper Body\",\n",
      "   \"value\": \"Orange Puffer Jacket\"\n",
      "  },\n",
      "  {\n",
      "   \"trait_type\": \"Sleeves\",\n",
      "   \"value\": \"Long Sleeves\"\n",
      "  },\n",
      "  {\n",
      "   \"trait_type\": \"Hat\",\n",
      "   \"value\": \"Light Blue Beanie\"\n",
      "  },\n",
      "  {\n",
      "   \"trait_type\": \"Bag\",\n",
      "   \"value\": \"Grey Backpack with Slingshot\"\n",
      "  },\n",
      "  {\n",
      "   \"trait_type\": \"Right Arm\",\n",
      "   \"value\": \"Dog\"\n",
      "  },\n",
      "  {\n",
      "   \"trait_type\": \"Left Arm\",\n",
      "   \"value\": \"Scientist\"\n",
      "  },\n",
      "  {\n",
      "   \"trait_type\": \"Background\",\n",
      "   \"value\": \"Blue\"\n",
      "  }\n",
      " ],\n",
      " \"description\": \"5,000 animated Invisible Friends hiding in the metaverse. A collection by Markus Magnusson & Random Character Collective.\",\n",
      " \"image\": \"ipfs://QmXmuSenZRnofhGMz2NyT3Yc4Zrty1TypuiBKDcaBsNw9V/1000.gif\",\n",
      " \"name\": \"Invisible Friends #1000\"\n",
      "}\n"
     ]
    }
   ],
   "source": [
    "data = json.loads(my_json)\n",
    "s = json.dumps(data, indent=1, sort_keys=True)\n",
    "print(s)"
   ]
  },
  {
   "cell_type": "markdown",
   "metadata": {},
   "source": [
    "#### Creating Traits file\n",
    "We will be creating trails file: \n",
    "It will be a simple csv file with first row as header and followed by traits"
   ]
  },
  {
   "cell_type": "code",
   "execution_count": null,
   "metadata": {},
   "outputs": [],
   "source": []
  },
  {
   "cell_type": "code",
   "execution_count": null,
   "metadata": {},
   "outputs": [],
   "source": []
  },
  {
   "cell_type": "code",
   "execution_count": null,
   "metadata": {},
   "outputs": [],
   "source": []
  }
 ],
 "metadata": {
  "kernelspec": {
   "display_name": "Python 3",
   "language": "python",
   "name": "python3"
  },
  "language_info": {
   "codemirror_mode": {
    "name": "ipython",
    "version": 3
   },
   "file_extension": ".py",
   "mimetype": "text/x-python",
   "name": "python",
   "nbconvert_exporter": "python",
   "pygments_lexer": "ipython3",
   "version": "3.7.6"
  }
 },
 "nbformat": 4,
 "nbformat_minor": 4
}
