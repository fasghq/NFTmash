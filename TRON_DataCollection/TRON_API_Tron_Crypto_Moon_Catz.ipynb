{
 "cells": [
  {
   "cell_type": "markdown",
   "metadata": {},
   "source": [
    "## Tron Data Collection"
   ]
  },
  {
   "cell_type": "code",
   "execution_count": 2,
   "metadata": {},
   "outputs": [],
   "source": [
    "#Installing Required Libraries\n",
    "# TronPy (Already Installed)\n",
    "# !pip3 install tronpy"
   ]
  },
  {
   "cell_type": "code",
   "execution_count": 3,
   "metadata": {},
   "outputs": [],
   "source": [
    "# Connecting to Node (network)\n",
    "import tronpy\n",
    "from tronpy import Tron, keys\n",
    "import urllib.request\n",
    "import json\n",
    "# convert bytes to dict\n",
    "import ast"
   ]
  },
  {
   "cell_type": "code",
   "execution_count": 4,
   "metadata": {},
   "outputs": [],
   "source": [
    "# Importing Tron key\n",
    "with open('./Keys/secrets.json') as f:\n",
    "    tron_api_key = json.load(f)['api_keys']['tron_api']\n",
    "    \n",
    "with open('./Keys/secrets.json') as f:\n",
    "    infura_api_key = json.load(f)['api_keys']['infura_api']"
   ]
  },
  {
   "cell_type": "code",
   "execution_count": 5,
   "metadata": {},
   "outputs": [],
   "source": [
    "#HTTP provider\n",
    "from tronpy.providers import HTTPProvider\n",
    "client_main_http = Tron(HTTPProvider(api_key=tron_api_key))"
   ]
  },
  {
   "cell_type": "code",
   "execution_count": null,
   "metadata": {},
   "outputs": [],
   "source": []
  },
  {
   "cell_type": "code",
   "execution_count": 6,
   "metadata": {
    "scrolled": true
   },
   "outputs": [
    {
     "name": "stdout",
     "output_type": "stream",
     "text": [
      "get_latest_block_number:  45779063\n",
      "get_latest_block_id:  0000000002ba8877478159e3900febde65af1e91bd86f5e104da94e09868a552\n"
     ]
    }
   ],
   "source": [
    "# HTTP API CLIENT: Calling query APIs\n",
    "print('get_latest_block_number: ',client_main_http.get_latest_block_number())\n",
    "print('get_latest_block_id: ',client_main_http.get_latest_block_id())"
   ]
  },
  {
   "cell_type": "markdown",
   "metadata": {},
   "source": [
    "## Interacting with contract(s)"
   ]
  },
  {
   "cell_type": "markdown",
   "metadata": {},
   "source": [
    "### Crypto Moon Catz\n",
    "\n",
    "<ul>\n",
    "  <li>Collection: Crypto Moon Catz</li>\n",
    "  <li>Items: 834 (MAX 138875)</li>\n",
    "  <li>All time volume: 31M</li>\n",
    "  <li>Month volume: 19K</li>\n",
    "  <li>Unique owners: 36</li>\n",
    "  <li>Contract: TLHjJLASw223bG6FNGjfzBJmeWeVMb7Li7</li>\n",
    "  <li>Number of Traits: 8</li>\n",
    "  <li>Collection link: https://apenft.io/collections/cmooncatz</li>\n",
    "  <li>Scanner Link: https://tronscan.io/#/token721/TLHjJLASw223bG6FNGjfzBJmeWeVMb7Li7</li>\n",
    "</ul>\n",
    "    "
   ]
  },
  {
   "cell_type": "code",
   "execution_count": 7,
   "metadata": {},
   "outputs": [],
   "source": [
    "CMCTron = client_main_http.get_contract('TLHjJLASw223bG6FNGjfzBJmeWeVMb7Li7')"
   ]
  },
  {
   "cell_type": "code",
   "execution_count": 8,
   "metadata": {},
   "outputs": [],
   "source": [
    "# Getting number of items (Max Items)"
   ]
  },
  {
   "cell_type": "code",
   "execution_count": 9,
   "metadata": {},
   "outputs": [
    {
     "data": {
      "text/plain": [
       "138875"
      ]
     },
     "execution_count": 9,
     "metadata": {},
     "output_type": "execute_result"
    }
   ],
   "source": [
    "max_nft_limit_CMC = CMCTron.functions.MAX_MOON.call()\n",
    "max_nft_limit_CMC"
   ]
  },
  {
   "cell_type": "code",
   "execution_count": 10,
   "metadata": {},
   "outputs": [],
   "source": [
    "nft_id = 323\n",
    "base_url = CMCTron.functions.baseURI() + str(nft_id) + '.json'"
   ]
  },
  {
   "cell_type": "code",
   "execution_count": 11,
   "metadata": {},
   "outputs": [
    {
     "data": {
      "text/plain": [
       "'https://lookingformynft.in/metadata/323.json'"
      ]
     },
     "execution_count": 11,
     "metadata": {},
     "output_type": "execute_result"
    }
   ],
   "source": [
    "base_url"
   ]
  },
  {
   "cell_type": "code",
   "execution_count": 12,
   "metadata": {},
   "outputs": [],
   "source": [
    "import urllib.request\n",
    "\n",
    "user_agent = 'Mozilla/5.0 (Windows; U; Windows NT 5.1; en-US; rv:1.9.0.7) Gecko/2009021910 Firefox/3.0.7'\n",
    "headers={'User-Agent':user_agent,} \n",
    "\n",
    "request=urllib.request.Request(base_url,None,headers) #The assembled request\n",
    "response = urllib.request.urlopen(request)\n",
    "response_data = response.read() # The data u need"
   ]
  },
  {
   "cell_type": "code",
   "execution_count": 13,
   "metadata": {},
   "outputs": [
    {
     "data": {
      "text/plain": [
       "b' {\"edition\":\"323\",\"name\":\"MoonCatz # 323\",\"description\":\"Crypto Moon Catz is tribute to the original ethereum collection and the crypto community. 25 of the top cryptos have been chosen for the different editions of MoonCatz. Collect a few from each!\",\"image\":\"https://cryptomooncatz.us/images/TRON/323.png\",\"external_url\":\"https://cryptomooncatz.us\",\"attributes\":[{\"trait_type\":\"Body\",\"value\":\"Tamed Pink\"},{\"trait_type\":\"Background\",\"value\":\"Purple\"},{\"trait_type\":\"Outwear\",\"value\":\"Diamond Necklace\"},{\"trait_type\":\"Headwear\",\"value\":\"Captain Cap\"},{\"trait_type\":\"Eyewear\",\"value\":\"Monocle\"},{\"trait_type\":\"Mood\",\"value\":\"Naughty\"},{\"trait_type\":\"Eyes\",\"value\":\"Discerning Green\"},{\"trait_type\":\"Tail\",\"value\":\"Long Tail Pink\"},{\"trait_type\":\"Crypto\",\"value\":\"TRON\"}]}\\n'"
      ]
     },
     "execution_count": 13,
     "metadata": {},
     "output_type": "execute_result"
    }
   ],
   "source": [
    "response_data"
   ]
  },
  {
   "cell_type": "code",
   "execution_count": 14,
   "metadata": {},
   "outputs": [
    {
     "name": "stdout",
     "output_type": "stream",
     "text": [
      " {\"edition\":\"323\",\"name\":\"MoonCatz # 323\",\"description\":\"Crypto Moon Catz is tribute to the original ethereum collection and the crypto community. 25 of the top cryptos have been chosen for the different editions of MoonCatz. Collect a few from each!\",\"image\":\"https://cryptomooncatz.us/images/TRON/323.png\",\"external_url\":\"https://cryptomooncatz.us\",\"attributes\":[{\"trait_type\":\"Body\",\"value\":\"Tamed Pink\"},{\"trait_type\":\"Background\",\"value\":\"Purple\"},{\"trait_type\":\"Outwear\",\"value\":\"Diamond Necklace\"},{\"trait_type\":\"Headwear\",\"value\":\"Captain Cap\"},{\"trait_type\":\"Eyewear\",\"value\":\"Monocle\"},{\"trait_type\":\"Mood\",\"value\":\"Naughty\"},{\"trait_type\":\"Eyes\",\"value\":\"Discerning Green\"},{\"trait_type\":\"Tail\",\"value\":\"Long Tail Pink\"},{\"trait_type\":\"Crypto\",\"value\":\"TRON\"}]}\n",
      "\n"
     ]
    }
   ],
   "source": [
    "my_json = response_data.decode('utf8').replace(\"'\", '\"')\n",
    "print(my_json)"
   ]
  },
  {
   "cell_type": "code",
   "execution_count": 15,
   "metadata": {},
   "outputs": [
    {
     "name": "stdout",
     "output_type": "stream",
     "text": [
      "{\n",
      " \"attributes\": [\n",
      "  {\n",
      "   \"trait_type\": \"Body\",\n",
      "   \"value\": \"Tamed Pink\"\n",
      "  },\n",
      "  {\n",
      "   \"trait_type\": \"Background\",\n",
      "   \"value\": \"Purple\"\n",
      "  },\n",
      "  {\n",
      "   \"trait_type\": \"Outwear\",\n",
      "   \"value\": \"Diamond Necklace\"\n",
      "  },\n",
      "  {\n",
      "   \"trait_type\": \"Headwear\",\n",
      "   \"value\": \"Captain Cap\"\n",
      "  },\n",
      "  {\n",
      "   \"trait_type\": \"Eyewear\",\n",
      "   \"value\": \"Monocle\"\n",
      "  },\n",
      "  {\n",
      "   \"trait_type\": \"Mood\",\n",
      "   \"value\": \"Naughty\"\n",
      "  },\n",
      "  {\n",
      "   \"trait_type\": \"Eyes\",\n",
      "   \"value\": \"Discerning Green\"\n",
      "  },\n",
      "  {\n",
      "   \"trait_type\": \"Tail\",\n",
      "   \"value\": \"Long Tail Pink\"\n",
      "  },\n",
      "  {\n",
      "   \"trait_type\": \"Crypto\",\n",
      "   \"value\": \"TRON\"\n",
      "  }\n",
      " ],\n",
      " \"description\": \"Crypto Moon Catz is tribute to the original ethereum collection and the crypto community. 25 of the top cryptos have been chosen for the different editions of MoonCatz. Collect a few from each!\",\n",
      " \"edition\": \"323\",\n",
      " \"external_url\": \"https://cryptomooncatz.us\",\n",
      " \"image\": \"https://cryptomooncatz.us/images/TRON/323.png\",\n",
      " \"name\": \"MoonCatz # 323\"\n",
      "}\n"
     ]
    }
   ],
   "source": [
    "example_data = json.loads(my_json)\n",
    "s = json.dumps(example_data, indent=1, sort_keys=True)\n",
    "print(s)"
   ]
  },
  {
   "cell_type": "markdown",
   "metadata": {},
   "source": [
    "#### Creating Traits file\n",
    "We will be creating trails file: \n",
    "It will be a simple csv file with first row as header and followed by traits"
   ]
  },
  {
   "cell_type": "code",
   "execution_count": 41,
   "metadata": {},
   "outputs": [
    {
     "data": {
      "text/plain": [
       "'https://lookingformynft.in/metadata/'"
      ]
     },
     "execution_count": 41,
     "metadata": {},
     "output_type": "execute_result"
    }
   ],
   "source": [
    "base_uri = CMCTron.functions.baseURI()\n",
    "base_uri"
   ]
  },
  {
   "cell_type": "code",
   "execution_count": 49,
   "metadata": {},
   "outputs": [],
   "source": [
    "# Creating dictionary for 10 apes\n",
    "\n",
    "def creatDict(token_ID):\n",
    "    base_url = base_uri + str(token_ID) + '.json'\n",
    "    user_agent = 'Mozilla/5.0 (Windows; U; Windows NT 5.1; en-US; rv:1.9.0.7) Gecko/2009021910 Firefox/3.0.7'\n",
    "    headers={'User-Agent':user_agent,} \n",
    "    request=urllib.request.Request(base_url,None,headers) #The assembled request\n",
    "    response = urllib.request.urlopen(request)\n",
    "    response_data = response.read() # The data u need\n",
    "\n",
    "    dict_str = response_data.decode(\"UTF-8\")\n",
    "#     my_data = ast.literal_eval(dict_str)\n",
    "    \n",
    "    return eval(dict_str)"
   ]
  },
  {
   "cell_type": "code",
   "execution_count": 51,
   "metadata": {},
   "outputs": [
    {
     "data": {
      "text/plain": [
       "{'edition': '1',\n",
       " 'name': 'MoonCatz # 1',\n",
       " 'description': 'Crypto Moon Catz is tribute to the original ethereum collection and the crypto community. 25 of the top cryptos have been chosen for the different editions of MoonCatz. Collect a few from each!',\n",
       " 'image': 'https://cryptomooncatz.us/images/TRON/1.png',\n",
       " 'external_url': 'https://cryptomooncatz.us',\n",
       " 'attributes': [{'trait_type': 'Body', 'value': 'Tamed Blue'},\n",
       "  {'trait_type': 'Background', 'value': 'Purple'},\n",
       "  {'trait_type': 'Outwear', 'value': 'Jean Jacket'},\n",
       "  {'trait_type': 'Headwear', 'value': 'Lincoln'},\n",
       "  {'trait_type': 'Eyewear', 'value': 'Half Moon Spectacles'},\n",
       "  {'trait_type': 'Mood', 'value': 'Naughty'},\n",
       "  {'trait_type': 'Eyes', 'value': 'Side Eye Blue'},\n",
       "  {'trait_type': 'Tail', 'value': 'Short Tail Blue'},\n",
       "  {'trait_type': 'Crypto', 'value': 'TRON'}]}"
      ]
     },
     "execution_count": 51,
     "metadata": {},
     "output_type": "execute_result"
    }
   ],
   "source": [
    "creatDict(1)"
   ]
  },
  {
   "cell_type": "code",
   "execution_count": 52,
   "metadata": {},
   "outputs": [
    {
     "data": {
      "text/plain": [
       "['tokenId',\n",
       " 'Body',\n",
       " 'Background',\n",
       " 'Outwear',\n",
       " 'Headwear',\n",
       " 'Eyewear',\n",
       " 'Mood',\n",
       " 'Eyes',\n",
       " 'Tail',\n",
       " 'Crypto']"
      ]
     },
     "execution_count": 52,
     "metadata": {},
     "output_type": "execute_result"
    }
   ],
   "source": [
    "column_names = ['tokenId']\n",
    "for i in range(len(example_data['attributes'])):\n",
    "    traits = example_data['attributes'][i]['trait_type']\n",
    "    column_names.append(traits)\n",
    "    \n",
    "column_names"
   ]
  },
  {
   "cell_type": "code",
   "execution_count": 53,
   "metadata": {},
   "outputs": [
    {
     "name": "stdout",
     "output_type": "stream",
     "text": [
      "TokenId 1\n",
      "TokenId 2\n",
      "TokenId 3\n",
      "TokenId 4\n",
      "TokenId 5\n",
      "TokenId 6\n",
      "TokenId 7\n",
      "TokenId 8\n",
      "TokenId 9\n",
      "TokenId 10\n",
      "TokenId 11\n",
      "TokenId 12\n",
      "TokenId 13\n",
      "TokenId 14\n",
      "TokenId 15\n",
      "TokenId 16\n",
      "TokenId 17\n",
      "TokenId 18\n",
      "TokenId 19\n"
     ]
    }
   ],
   "source": [
    "catz_dataset = list()\n",
    "\n",
    "# get the information\n",
    "for i in range(1,20):\n",
    "    catz_value = []\n",
    "    print('TokenId',i)\n",
    "    catz_value.append(i)\n",
    "    for j in range(len(creatDict(i)['attributes'])):\n",
    "        try:\n",
    "            catz_value.append(creatDict(i)['attributes'][j]['value'])\n",
    "#             print(creatDict(i)['attributes'][j]['name'],\":\",creatDict(i)['attributes'][j]['value'])\n",
    "        except:\n",
    "            catz_value.append('null')\n",
    "#             print(creatDict(i)['attributes'][j]['name'],\":\",'null')\n",
    "    catz_dataset.append(catz_value)"
   ]
  },
  {
   "cell_type": "code",
   "execution_count": 54,
   "metadata": {},
   "outputs": [],
   "source": [
    "# Writing to csv\n",
    "import csv\n",
    "with open('catz_dataset.csv', 'w', newline='') as birds_file:\n",
    "    bird_writer = csv.writer(birds_file, delimiter=',', quotechar='\"', quoting=csv.QUOTE_MINIMAL)\n",
    "    bird_writer.writerow(column_names)\n",
    "    for row_index in range(len(catz_dataset)):\n",
    "        bird_writer.writerow(catz_dataset[row_index])"
   ]
  },
  {
   "cell_type": "code",
   "execution_count": null,
   "metadata": {},
   "outputs": [],
   "source": []
  }
 ],
 "metadata": {
  "kernelspec": {
   "display_name": "Python 3",
   "language": "python",
   "name": "python3"
  },
  "language_info": {
   "codemirror_mode": {
    "name": "ipython",
    "version": 3
   },
   "file_extension": ".py",
   "mimetype": "text/x-python",
   "name": "python",
   "nbconvert_exporter": "python",
   "pygments_lexer": "ipython3",
   "version": "3.7.6"
  }
 },
 "nbformat": 4,
 "nbformat_minor": 4
}
