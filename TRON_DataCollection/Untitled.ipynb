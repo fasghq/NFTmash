{
 "cells": [
  {
   "cell_type": "code",
   "execution_count": 1,
   "metadata": {},
   "outputs": [],
   "source": [
    "import tronpy\n",
    "from tronpy import Tron, keys\n",
    "import urllib.request\n",
    "import ast\n",
    "import json\n",
    "import requests"
   ]
  },
  {
   "cell_type": "code",
   "execution_count": 2,
   "metadata": {},
   "outputs": [],
   "source": [
    "# Importing Tron key\n",
    "with open('./Keys/secrets.json') as f:\n",
    "    tron_api_key = json.load(f)['api_keys']['tron_api']\n",
    "    \n",
    "with open('./Keys/secrets.json') as f:\n",
    "    infura_api_key = json.load(f)['api_keys']['infura_api']\n"
   ]
  },
  {
   "cell_type": "code",
   "execution_count": 3,
   "metadata": {},
   "outputs": [],
   "source": [
    "#HTTP provider\n",
    "from tronpy.providers import HTTPProvider\n",
    "client_main_http = Tron(HTTPProvider(api_key=tron_api_key))"
   ]
  },
  {
   "cell_type": "code",
   "execution_count": 4,
   "metadata": {},
   "outputs": [],
   "source": [
    "CMCTron = client_main_http.get_contract('TLHjJLASw223bG6FNGjfzBJmeWeVMb7Li7')"
   ]
  },
  {
   "cell_type": "code",
   "execution_count": 5,
   "metadata": {},
   "outputs": [
    {
     "data": {
      "text/plain": [
       "138875"
      ]
     },
     "execution_count": 5,
     "metadata": {},
     "output_type": "execute_result"
    }
   ],
   "source": [
    "max_nft_limit_CMC = CMCTron.functions.MAX_MOON.call()\n",
    "max_nft_limit_CMC"
   ]
  },
  {
   "cell_type": "code",
   "execution_count": 6,
   "metadata": {},
   "outputs": [],
   "source": [
    "from pathlib import Path\n",
    "Path(\"jpgs/CMoonCatz\").mkdir(parents=True, exist_ok=True)"
   ]
  },
  {
   "cell_type": "code",
   "execution_count": 7,
   "metadata": {},
   "outputs": [],
   "source": [
    "url_string = 'https://cryptomooncatz.us/images/TRON/'"
   ]
  },
  {
   "cell_type": "code",
   "execution_count": 8,
   "metadata": {},
   "outputs": [
    {
     "data": {
      "text/plain": [
       "'https://cryptomooncatz.us/images/TRON/'"
      ]
     },
     "execution_count": 8,
     "metadata": {},
     "output_type": "execute_result"
    }
   ],
   "source": [
    "url_string"
   ]
  },
  {
   "cell_type": "code",
   "execution_count": 10,
   "metadata": {},
   "outputs": [
    {
     "name": "stdout",
     "output_type": "stream",
     "text": [
      "<Response [412]>\n"
     ]
    }
   ],
   "source": [
    "import requests\n",
    "\n",
    "with open('1.png', 'wb') as handle:\n",
    "    response = requests.get('https://cryptomooncatz.us/images/TRON/1.png', stream=True)\n",
    "\n",
    "    if not response.ok:\n",
    "        print(response)\n",
    "\n",
    "    for block in response.iter_content(1024):\n",
    "        if not block:\n",
    "            break\n",
    "\n",
    "        handle.write(block)"
   ]
  },
  {
   "cell_type": "code",
   "execution_count": null,
   "metadata": {},
   "outputs": [],
   "source": [
    "from tqdm import tqdm\n",
    "\n",
    "for ape_id in tqdm(range(1,20)):\n",
    "    url_string = 'https://cryptomooncatz.us/images/TRON/' + str(ape_id) + '.png'\n",
    "    print(url_string)\n",
    "    r = requests.get(url_string, allow_redirects=True)\n",
    "    open('jpgs/CMoonCatz/' + str(ape_id) + \".jpg\", 'wb').write(r.content)"
   ]
  },
  {
   "cell_type": "code",
   "execution_count": null,
   "metadata": {},
   "outputs": [],
   "source": []
  }
 ],
 "metadata": {
  "kernelspec": {
   "display_name": "Python 3",
   "language": "python",
   "name": "python3"
  },
  "language_info": {
   "codemirror_mode": {
    "name": "ipython",
    "version": 3
   },
   "file_extension": ".py",
   "mimetype": "text/x-python",
   "name": "python",
   "nbconvert_exporter": "python",
   "pygments_lexer": "ipython3",
   "version": "3.7.6"
  }
 },
 "nbformat": 4,
 "nbformat_minor": 4
}
