{
 "cells": [
  {
   "cell_type": "markdown",
   "metadata": {},
   "source": [
    "## Tron Data Collection"
   ]
  },
  {
   "cell_type": "code",
   "execution_count": 2,
   "metadata": {},
   "outputs": [],
   "source": [
    "#Installing Required Libraries\n",
    "# TronPy (Already Installed)\n",
    "# !pip3 install tronpy"
   ]
  },
  {
   "cell_type": "code",
   "execution_count": 3,
   "metadata": {},
   "outputs": [],
   "source": [
    "# Connecting to Node (network)\n",
    "import tronpy\n",
    "from tronpy import Tron, keys\n",
    "import urllib.request\n",
    "import json"
   ]
  },
  {
   "cell_type": "code",
   "execution_count": 16,
   "metadata": {},
   "outputs": [],
   "source": [
    "# Importing Tron key\n",
    "with open('./Keys/secrets.json') as f:\n",
    "    tron_api_key = json.load(f)['api_keys']['tron_api']\n",
    "    \n",
    "with open('./Keys/secrets.json') as f:\n",
    "    infura_api_key = json.load(f)['api_keys']['infura_api']"
   ]
  },
  {
   "cell_type": "code",
   "execution_count": 17,
   "metadata": {},
   "outputs": [],
   "source": [
    "#HTTP provider\n",
    "from tronpy.providers import HTTPProvider\n",
    "client_main_http = Tron(HTTPProvider(api_key=tron_api_key))"
   ]
  },
  {
   "cell_type": "code",
   "execution_count": null,
   "metadata": {},
   "outputs": [],
   "source": []
  },
  {
   "cell_type": "code",
   "execution_count": 18,
   "metadata": {
    "scrolled": true
   },
   "outputs": [
    {
     "name": "stdout",
     "output_type": "stream",
     "text": [
      "get_latest_block_number:  45628858\n",
      "get_latest_block_id:  0000000002b83dba0c9eba4934506b08878def3cee2acb9b979357da196606fc\n"
     ]
    }
   ],
   "source": [
    "# HTTP API CLIENT: Calling query APIs\n",
    "print('get_latest_block_number: ',client_main_http.get_latest_block_number())\n",
    "print('get_latest_block_id: ',client_main_http.get_latest_block_id())"
   ]
  },
  {
   "cell_type": "markdown",
   "metadata": {},
   "source": [
    "## Interacting with contract(s)"
   ]
  },
  {
   "cell_type": "markdown",
   "metadata": {},
   "source": [
    "### Cool Cats Tron\n",
    "\n",
    "<ul>\n",
    "  <li>Collection: Cool Cats Tron</li>\n",
    "  <li>Items: 4531 (MAX 10000)</li>\n",
    "  <li>All time volume: 857K</li>\n",
    "  <li>Month volume: 37K</li>\n",
    "  <li>Unique owners: 909</li>\n",
    "  <li>Contract: TAf4C5L5hXDh4o3ZufeUni4LEQbH1LHrz7</li>\n",
    "  <li>Number of Traits: 5</li>\n",
    "  <li>Collection link: https://apenft.io/collections/coolcatstron</li>\n",
    "  <li>Scanner Link: https://tronscan.org/#/token721/TAf4C5L5hXDh4o3ZufeUni4LEQbH1LHrz7</li>\n",
    "</ul>\n",
    "    "
   ]
  },
  {
   "cell_type": "code",
   "execution_count": 11,
   "metadata": {},
   "outputs": [],
   "source": [
    "CCTron = client_main_http.get_contract('TAf4C5L5hXDh4o3ZufeUni4LEQbH1LHrz7')"
   ]
  },
  {
   "cell_type": "code",
   "execution_count": null,
   "metadata": {},
   "outputs": [],
   "source": [
    "# Getting number of items (Max Items)"
   ]
  },
  {
   "cell_type": "code",
   "execution_count": 12,
   "metadata": {},
   "outputs": [
    {
     "data": {
      "text/plain": [
       "10000"
      ]
     },
     "execution_count": 12,
     "metadata": {},
     "output_type": "execute_result"
    }
   ],
   "source": [
    "max_nft_limit_CC = CCTron.functions.MAX_NFT_SUPPLY.call()\n",
    "max_nft_limit_CC"
   ]
  },
  {
   "cell_type": "code",
   "execution_count": 19,
   "metadata": {},
   "outputs": [],
   "source": [
    "# uri_nft_bayc = BAYCTron.functions.\n",
    "# dir(BAYCTron.functions)\n",
    "url = CCTron.functions.tokenURI(1263)"
   ]
  },
  {
   "cell_type": "code",
   "execution_count": 20,
   "metadata": {},
   "outputs": [
    {
     "data": {
      "text/plain": [
       "'https://coolcatstron.com/cat/1263'"
      ]
     },
     "execution_count": 20,
     "metadata": {},
     "output_type": "execute_result"
    }
   ],
   "source": [
    "url"
   ]
  },
  {
   "cell_type": "code",
   "execution_count": 21,
   "metadata": {},
   "outputs": [],
   "source": [
    "import urllib.request\n",
    "\n",
    "user_agent = 'Mozilla/5.0 (Windows; U; Windows NT 5.1; en-US; rv:1.9.0.7) Gecko/2009021910 Firefox/3.0.7'\n",
    "headers={'User-Agent':user_agent,} \n",
    "\n",
    "request=urllib.request.Request(url,None,headers) #The assembled request\n",
    "response = urllib.request.urlopen(request)\n",
    "response_data = response.read() # The data u need"
   ]
  },
  {
   "cell_type": "code",
   "execution_count": 22,
   "metadata": {},
   "outputs": [
    {
     "data": {
      "text/plain": [
       "b'{\"image\":\"https://coolcatstron.com/img/1263.jpg\",\"description\":\"We are bringing 10000 Cool Cats on TRON\",\"traits\":{\"body\":\"blue cat skin\",\"face\":\"rich\",\"hats\":\"dutch\",\"shirt\":\"shirt bowtie\",\"tier\":\"classy_1\"},\"name\":\"Cool Cat #1263\"}'"
      ]
     },
     "execution_count": 22,
     "metadata": {},
     "output_type": "execute_result"
    }
   ],
   "source": [
    "response_data"
   ]
  },
  {
   "cell_type": "code",
   "execution_count": 23,
   "metadata": {},
   "outputs": [
    {
     "name": "stdout",
     "output_type": "stream",
     "text": [
      "{\"image\":\"https://coolcatstron.com/img/1263.jpg\",\"description\":\"We are bringing 10000 Cool Cats on TRON\",\"traits\":{\"body\":\"blue cat skin\",\"face\":\"rich\",\"hats\":\"dutch\",\"shirt\":\"shirt bowtie\",\"tier\":\"classy_1\"},\"name\":\"Cool Cat #1263\"}\n"
     ]
    }
   ],
   "source": [
    "my_json = response_data.decode('utf8').replace(\"'\", '\"')\n",
    "print(my_json)"
   ]
  },
  {
   "cell_type": "code",
   "execution_count": 24,
   "metadata": {},
   "outputs": [
    {
     "name": "stdout",
     "output_type": "stream",
     "text": [
      "{\n",
      " \"description\": \"We are bringing 10000 Cool Cats on TRON\",\n",
      " \"image\": \"https://coolcatstron.com/img/1263.jpg\",\n",
      " \"name\": \"Cool Cat #1263\",\n",
      " \"traits\": {\n",
      "  \"body\": \"blue cat skin\",\n",
      "  \"face\": \"rich\",\n",
      "  \"hats\": \"dutch\",\n",
      "  \"shirt\": \"shirt bowtie\",\n",
      "  \"tier\": \"classy_1\"\n",
      " }\n",
      "}\n"
     ]
    }
   ],
   "source": [
    "data = json.loads(my_json)\n",
    "s = json.dumps(data, indent=1, sort_keys=True)\n",
    "print(s)"
   ]
  },
  {
   "cell_type": "code",
   "execution_count": 25,
   "metadata": {},
   "outputs": [],
   "source": [
    "#Note that background color is not of significance :) I don't know why :)"
   ]
  },
  {
   "cell_type": "code",
   "execution_count": null,
   "metadata": {},
   "outputs": [],
   "source": []
  },
  {
   "cell_type": "code",
   "execution_count": null,
   "metadata": {},
   "outputs": [],
   "source": []
  },
  {
   "cell_type": "code",
   "execution_count": null,
   "metadata": {},
   "outputs": [],
   "source": []
  }
 ],
 "metadata": {
  "kernelspec": {
   "display_name": "Python 3",
   "language": "python",
   "name": "python3"
  },
  "language_info": {
   "codemirror_mode": {
    "name": "ipython",
    "version": 3
   },
   "file_extension": ".py",
   "mimetype": "text/x-python",
   "name": "python",
   "nbconvert_exporter": "python",
   "pygments_lexer": "ipython3",
   "version": "3.7.6"
  }
 },
 "nbformat": 4,
 "nbformat_minor": 4
}
